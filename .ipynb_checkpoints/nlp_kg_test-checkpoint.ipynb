{
 "cells": [
  {
   "cell_type": "code",
   "execution_count": 14,
   "id": "94ac3b4c",
   "metadata": {},
   "outputs": [],
   "source": [
    "from urllib.request import urlretrieve\n",
    "import zipfile\n",
    "\n",
    "urlretrieve(\"http://nlp.stanford.edu/data/glove.6B.zip\", 'data'+'/glove.6b.zip')\n",
    "with zipfile.ZipFile('data'+'/glove.6b.zip', 'r') as zip_ref:\n",
    "    zip_ref.extractall('data')"
   ]
  },
  {
   "cell_type": "code",
   "execution_count": 20,
   "id": "93acf347",
   "metadata": {},
   "outputs": [],
   "source": [
    "import numpy as np\n",
    "\n",
    "ent_emb = []\n",
    "entities = []\n",
    "ent2idx = {}\n",
    "idx2ent = {}\n",
    "idx = 0\n",
    "with open(\"data/glove.6B.50d.txt\", 'r', encoding=\"utf-8\") as f:\n",
    "    for line in f:\n",
    "        values = line.split()\n",
    "        word = values[0]\n",
    "        entities.append(word)\n",
    "        vector = np.asarray(values[1:], \"float32\")\n",
    "        ent_emb.append(vector)\n",
    "        ent2idx[word] = idx\n",
    "        idx2ent[idx] = word\n",
    "        idx += 1"
   ]
  },
  {
   "cell_type": "code",
   "execution_count": 26,
   "id": "02063a3e",
   "metadata": {},
   "outputs": [
    {
     "data": {
      "text/plain": [
       "False"
      ]
     },
     "execution_count": 26,
     "metadata": {},
     "output_type": "execute_result"
    }
   ],
   "source": [
    "'Lionel Messi' in entities"
   ]
  },
  {
   "cell_type": "code",
   "execution_count": null,
   "id": "6e8040b2",
   "metadata": {},
   "outputs": [],
   "source": []
  }
 ],
 "metadata": {
  "kernelspec": {
   "display_name": "Python 3",
   "language": "python",
   "name": "python3"
  },
  "language_info": {
   "codemirror_mode": {
    "name": "ipython",
    "version": 3
   },
   "file_extension": ".py",
   "mimetype": "text/x-python",
   "name": "python",
   "nbconvert_exporter": "python",
   "pygments_lexer": "ipython3",
   "version": "3.8.8"
  },
  "toc": {
   "base_numbering": 1,
   "nav_menu": {},
   "number_sections": false,
   "sideBar": true,
   "skip_h1_title": false,
   "title_cell": "Table of Contents",
   "title_sidebar": "Contents",
   "toc_cell": false,
   "toc_position": {
    "height": "calc(100% - 180px)",
    "left": "10px",
    "top": "150px",
    "width": "255.865px"
   },
   "toc_section_display": true,
   "toc_window_display": true
  }
 },
 "nbformat": 4,
 "nbformat_minor": 5
}
