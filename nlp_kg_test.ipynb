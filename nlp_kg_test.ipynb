{
 "cells": [
  {
   "cell_type": "code",
   "execution_count": 14,
   "id": "d954874f",
   "metadata": {},
   "outputs": [],
   "source": [
    "from urllib.request import urlretrieve\n",
    "import zipfile\n",
    "\n",
    "urlretrieve(\"http://nlp.stanford.edu/data/glove.6B.zip\", 'data'+'/glove.6b.zip')\n",
    "with zipfile.ZipFile('data'+'/glove.6b.zip', 'r') as zip_ref:\n",
    "    zip_ref.extractall('data')"
   ]
  },
  {
   "cell_type": "code",
   "execution_count": 20,
   "id": "5370b040",
   "metadata": {},
   "outputs": [],
   "source": [
    "import numpy as np\n",
    "\n",
    "ent_emb = []\n",
    "entities = []\n",
    "ent2idx = {}\n",
    "idx2ent = {}\n",
    "idx = 0\n",
    "with open(\"data/glove.6B.50d.txt\", 'r', encoding=\"utf-8\") as f:\n",
    "    for line in f:\n",
    "        values = line.split()\n",
    "        word = values[0]\n",
    "        entities.append(word)\n",
    "        vector = np.asarray(values[1:], \"float32\")\n",
    "        ent_emb.append(vector)\n",
    "        ent2idx[word] = idx\n",
    "        idx2ent[idx] = word\n",
    "        idx += 1"
   ]
  },
  {
   "cell_type": "code",
   "execution_count": 26,
   "id": "1f341f2d",
   "metadata": {},
   "outputs": [
    {
     "data": {
      "text/plain": [
       "False"
      ]
     },
     "execution_count": 26,
     "metadata": {},
     "output_type": "execute_result"
    }
   ],
   "source": [
    "'Lionel Messi' in entities"
   ]
  },
  {
   "cell_type": "code",
   "execution_count": 29,
   "id": "1f4703b1",
   "metadata": {},
   "outputs": [
    {
     "data": {
      "text/plain": [
       "True"
      ]
     },
     "execution_count": 29,
     "metadata": {},
     "output_type": "execute_result"
    }
   ],
   "source": [
    "'samsung' in entities"
   ]
  },
  {
   "cell_type": "code",
   "execution_count": 31,
   "id": "9d40d91b",
   "metadata": {},
   "outputs": [
    {
     "data": {
      "text/plain": [
       "array([ 0.038318 , -0.47761  ,  1.5479   ,  2.1977   , -0.37663  ,\n",
       "       -0.3043   ,  0.43616  , -0.88477  , -0.16857  ,  0.65115  ,\n",
       "        0.79176  , -0.2107   , -0.7319   , -0.4491   , -0.1263   ,\n",
       "        0.68891  , -1.0975   ,  1.1121   , -0.0386   , -0.42534  ,\n",
       "        0.47778  , -0.51349  , -0.35801  , -0.81789  , -0.8123   ,\n",
       "       -0.78331  , -0.27652  , -0.27396  , -1.3298   , -0.96249  ,\n",
       "        1.2821   ,  0.0098853,  0.57195  ,  0.72032  , -0.0028576,\n",
       "       -0.52664  , -0.23956  , -0.055702 , -0.26017  , -1.5175   ,\n",
       "        0.20478  , -0.50222  , -0.2321   , -0.0041807,  1.5633   ,\n",
       "       -0.79419  ,  0.34273  ,  0.25563  , -0.64646  , -0.45282  ],\n",
       "      dtype=float32)"
      ]
     },
     "execution_count": 31,
     "metadata": {},
     "output_type": "execute_result"
    }
   ],
   "source": [
    "ent_emb[ent2idx['samsung']]"
   ]
  },
  {
   "cell_type": "code",
   "execution_count": null,
   "id": "f66985a3",
   "metadata": {},
   "outputs": [],
   "source": []
  }
 ],
 "metadata": {
  "kernelspec": {
   "display_name": "Python 3",
   "language": "python",
   "name": "python3"
  },
  "language_info": {
   "codemirror_mode": {
    "name": "ipython",
    "version": 3
   },
   "file_extension": ".py",
   "mimetype": "text/x-python",
   "name": "python",
   "nbconvert_exporter": "python",
   "pygments_lexer": "ipython3",
   "version": "3.8.8"
  },
  "toc": {
   "base_numbering": 1,
   "nav_menu": {},
   "number_sections": false,
   "sideBar": true,
   "skip_h1_title": false,
   "title_cell": "Table of Contents",
   "title_sidebar": "Contents",
   "toc_cell": false,
   "toc_position": {
    "height": "calc(100% - 180px)",
    "left": "10px",
    "top": "150px",
    "width": "255.865px"
   },
   "toc_section_display": true,
   "toc_window_display": true
  }
 },
 "nbformat": 4,
 "nbformat_minor": 5
}
