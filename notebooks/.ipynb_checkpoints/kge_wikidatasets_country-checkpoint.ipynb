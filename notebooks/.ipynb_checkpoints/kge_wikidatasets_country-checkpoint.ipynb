{
 "cells": [
  {
   "cell_type": "code",
   "execution_count": 1,
   "id": "transparent-demand",
   "metadata": {
    "scrolled": true,
    "tags": []
   },
   "outputs": [],
   "source": [
    "import sys\n",
    "sys.path.insert(0,'..')\n",
    "from torchkge.utils.datasets import load_wikidatasets\n",
    "\n",
    "kg = load_wikidatasets(which='countries', limit_= 0, data_home='../raw_data')\n",
    "kg_train, kg_valid, kg_test = kg.split_kg(validation=True)"
   ]
  },
  {
   "cell_type": "code",
   "execution_count": 2,
   "id": "sacred-annual",
   "metadata": {
    "tags": []
   },
   "outputs": [
    {
     "name": "stdout",
     "output_type": "stream",
     "text": [
      "# of entities : 28777\n",
      "# of relations: 166\n"
     ]
    }
   ],
   "source": [
    "print(f'# of entities : {kg_train.n_ent}')\n",
    "print(f'# of relations: {kg_train.n_rel}')"
   ]
  },
  {
   "cell_type": "code",
   "execution_count": 3,
   "id": "0498cc1a-64c7-466c-9256-278338499a6f",
   "metadata": {},
   "outputs": [
    {
     "name": "stdout",
     "output_type": "stream",
     "text": [
      "# of triplets in train : 9227\n",
      "# of triplets in valid : 1060\n",
      "# of triplets in test  : 1074\n"
     ]
    }
   ],
   "source": [
    "print(f'# of triplets in train : {kg_train.n_facts}')\n",
    "print(f'# of triplets in valid : {kg_valid.n_facts}')\n",
    "print(f'# of triplets in test  : {kg_test.n_facts}')"
   ]
  },
  {
   "cell_type": "code",
   "execution_count": 4,
   "id": "spoken-three",
   "metadata": {
    "tags": []
   },
   "outputs": [
    {
     "data": {
      "text/plain": [
       "[('Belgium', 0),\n",
       " ('Portugal', 1),\n",
       " (\"People's Republic of China\", 2),\n",
       " ('Brazil', 3),\n",
       " ('Germany', 4)]"
      ]
     },
     "execution_count": 4,
     "metadata": {},
     "output_type": "execute_result"
    }
   ],
   "source": [
    "list(kg_train.ent2ix.items())[:5]"
   ]
  },
  {
   "cell_type": "code",
   "execution_count": 5,
   "id": "talented-vitamin",
   "metadata": {
    "tags": []
   },
   "outputs": [
    {
     "data": {
      "text/plain": [
       "[(0, 'Belgium'),\n",
       " (1, 'Portugal'),\n",
       " (2, \"People's Republic of China\"),\n",
       " (3, 'Brazil'),\n",
       " (4, 'Germany')]"
      ]
     },
     "execution_count": 5,
     "metadata": {},
     "output_type": "execute_result"
    }
   ],
   "source": [
    "list(kg_train.ix2ent.items())[:5]"
   ]
  },
  {
   "cell_type": "code",
   "execution_count": 6,
   "id": "recreational-memphis",
   "metadata": {
    "tags": []
   },
   "outputs": [
    {
     "data": {
      "text/plain": [
       "[('participant of', 0),\n",
       " (\"topic's main Wikimedia portal\", 1),\n",
       " ('motto', 2),\n",
       " ('Wikimedia outline', 3),\n",
       " ('currency', 4)]"
      ]
     },
     "execution_count": 6,
     "metadata": {},
     "output_type": "execute_result"
    }
   ],
   "source": [
    "list(kg_train.rel2ix.items())[:5]"
   ]
  },
  {
   "cell_type": "code",
   "execution_count": 7,
   "id": "freelance-activity",
   "metadata": {
    "tags": []
   },
   "outputs": [
    {
     "data": {
      "text/plain": [
       "[(0, 'participant of'),\n",
       " (1, \"topic's main Wikimedia portal\"),\n",
       " (2, 'motto'),\n",
       " (3, 'Wikimedia outline'),\n",
       " (4, 'currency')]"
      ]
     },
     "execution_count": 7,
     "metadata": {},
     "output_type": "execute_result"
    }
   ],
   "source": [
    "list(kg_train.ix2rel.items())[:5]"
   ]
  },
  {
   "cell_type": "code",
   "execution_count": 8,
   "id": "three-nickname",
   "metadata": {
    "tags": []
   },
   "outputs": [
    {
     "data": {
      "text/plain": [
       "[(tensor(0), tensor(16), tensor(3047)),\n",
       " (tensor(0), tensor(16), tensor(424)),\n",
       " (tensor(0), tensor(16), tensor(4)),\n",
       " (tensor(0), tensor(16), tensor(1379)),\n",
       " (tensor(0), tensor(16), tensor(1380))]"
      ]
     },
     "execution_count": 8,
     "metadata": {},
     "output_type": "execute_result"
    }
   ],
   "source": [
    "list(zip(kg_train.head_idx, kg_train.relations, kg_train.tail_idx))[:5]"
   ]
  },
  {
   "cell_type": "code",
   "execution_count": 9,
   "id": "awful-bidder",
   "metadata": {
    "tags": []
   },
   "outputs": [
    {
     "name": "stdout",
     "output_type": "stream",
     "text": [
      "Algeria -> shares border with -> Morocco\n",
      "Brazil -> diplomatic relation -> France\n",
      "Comoros -> shares border with -> Mozambique\n",
      "Pakistan -> diplomatic relation -> Malta\n",
      "Tunisia -> diplomatic relation -> United States of America\n",
      "Kingdom of Aragon -> replaces -> County of Aragon\n",
      "Saudi Arabia -> diplomatic relation -> Russia\n",
      "Almohad Caliphate -> replaced by -> Kingdom of Portugal\n",
      "Montenegro -> diplomatic relation -> Kosovo\n",
      "United States of America -> diplomatic relation -> Indonesia\n",
      "South Russia -> replaces -> Mountainous Republic of the Northern Caucasus\n",
      "Switzerland -> shares border with -> Germany\n",
      "League  Federal -> country -> Argentina\n",
      "Indonesia -> diplomatic relation -> People's Republic of China\n",
      "People's Republic of China -> diplomatic relation -> India\n",
      "Assam -> shares border with -> Manipur\n",
      "Liechtenstein -> shares border with -> Nazi Germany\n",
      "Ottoman Empire -> shares border with -> Austria-Hungary\n",
      "Kingdom of Holland -> followed by -> First French Empire\n",
      "Australia -> diplomatic relation -> Kenya\n"
     ]
    }
   ],
   "source": [
    "from random import randint\n",
    "test_size = 20\n",
    "\n",
    "for _ in range(test_size):\n",
    "    i = randint(0, kg_train.n_facts)\n",
    "    print(kg_train.ix2ent[kg_train.head_idx[i].item()], '->', kg_train.ix2rel[kg_train.relations[i].item()], '->', kg_train.ix2ent[kg_train.tail_idx[i].item()])"
   ]
  },
  {
   "cell_type": "code",
   "execution_count": 10,
   "id": "everyday-quick",
   "metadata": {
    "tags": []
   },
   "outputs": [],
   "source": [
    "# kg_train, kg_valid, kg_test = kg.split_kg(share=0.8, validation=True)"
   ]
  },
  {
   "cell_type": "code",
   "execution_count": 11,
   "id": "a22478c6-adb3-4476-9c54-0af4db315b74",
   "metadata": {},
   "outputs": [],
   "source": [
    "# from os.path import exists\n",
    "# import pickle\n",
    "\n",
    "# if not exists('../data/WikiDataSets/countries/WikiData_train.pkl'):\n",
    "#     with open('../data/WikiDataSets/countries/WikiData_train.pkl', mode='wb') as io:\n",
    "#         pickle.dump(kg_train, io)"
   ]
  },
  {
   "cell_type": "code",
   "execution_count": 12,
   "id": "divine-voltage",
   "metadata": {
    "execution": {
     "iopub.execute_input": "2021-06-03T07:27:10.686001Z",
     "iopub.status.busy": "2021-06-03T07:27:10.686001Z",
     "iopub.status.idle": "2021-06-03T07:27:10.702334Z",
     "shell.execute_reply": "2021-06-03T07:27:10.701333Z",
     "shell.execute_reply.started": "2021-06-03T07:27:10.686001Z"
    },
    "tags": []
   },
   "outputs": [],
   "source": [
    "import torch\n",
    "from torch import cuda\n",
    "from torch.optim import Adam\n",
    "from tqdm.autonotebook import tqdm\n",
    "\n",
    "from torchkge.models import TransEModel, DistMultModel\n",
    "from torchkge.sampling import BernoulliNegativeSampler\n",
    "from torchkge.utils import MarginLoss, DataLoader"
   ]
  },
  {
   "cell_type": "code",
   "execution_count": 13,
   "id": "shared-conspiracy",
   "metadata": {
    "execution": {
     "iopub.execute_input": "2021-06-03T07:23:37.494952Z",
     "iopub.status.busy": "2021-06-03T07:23:37.494952Z",
     "iopub.status.idle": "2021-06-03T07:23:37.511952Z",
     "shell.execute_reply": "2021-06-03T07:23:37.511952Z",
     "shell.execute_reply.started": "2021-06-03T07:23:37.494952Z"
    },
    "tags": []
   },
   "outputs": [
    {
     "name": "stdout",
     "output_type": "stream",
     "text": [
      "# of triples in train: 9227\n",
      "# of triples in valid: 1060\n",
      "# of triples in test : 1074\n"
     ]
    }
   ],
   "source": [
    "print(f'# of triples in train: {kg_train.n_facts}')\n",
    "print(f'# of triples in valid: {kg_valid.n_facts}')\n",
    "print(f'# of triples in test : {kg_test.n_facts}')"
   ]
  },
  {
   "cell_type": "code",
   "execution_count": 14,
   "id": "further-lottery",
   "metadata": {
    "execution": {
     "iopub.execute_input": "2021-06-03T07:23:38.704389Z",
     "iopub.status.busy": "2021-06-03T07:23:38.704389Z",
     "iopub.status.idle": "2021-06-03T07:23:38.715392Z",
     "shell.execute_reply": "2021-06-03T07:23:38.715392Z",
     "shell.execute_reply.started": "2021-06-03T07:23:38.704389Z"
    },
    "tags": []
   },
   "outputs": [],
   "source": [
    "# training config\n",
    "\n",
    "ent_emb_dim = 20\n",
    "lr = 0.0004\n",
    "b_size = 500\n",
    "margin = 0.5\n",
    "summary_step = 50"
   ]
  },
  {
   "cell_type": "code",
   "execution_count": 15,
   "id": "spanish-operator",
   "metadata": {
    "execution": {
     "iopub.execute_input": "2021-06-03T07:25:21.112446Z",
     "iopub.status.busy": "2021-06-03T07:25:21.111446Z",
     "iopub.status.idle": "2021-06-03T07:25:21.132432Z",
     "shell.execute_reply": "2021-06-03T07:25:21.132432Z",
     "shell.execute_reply.started": "2021-06-03T07:25:21.112446Z"
    }
   },
   "outputs": [],
   "source": [
    "# define the model and criterion\n",
    "\n",
    "# model = TransEModel(ent_emb_dim, kg_train.n_ent, kg_train.n_rel, dissimilarity_type='L2')\n",
    "model = DistMultModel(ent_emb_dim, kg_train.n_ent, kg_train.n_rel)\n",
    "criterion = MarginLoss(margin)"
   ]
  },
  {
   "cell_type": "code",
   "execution_count": 16,
   "id": "fatal-lawrence",
   "metadata": {
    "execution": {
     "iopub.execute_input": "2021-06-03T07:29:52.491461Z",
     "iopub.status.busy": "2021-06-03T07:29:52.491461Z",
     "iopub.status.idle": "2021-06-03T07:29:52.503461Z",
     "shell.execute_reply": "2021-06-03T07:29:52.503461Z",
     "shell.execute_reply.started": "2021-06-03T07:29:52.491461Z"
    },
    "tags": []
   },
   "outputs": [],
   "source": [
    "# use cuda if it is available\n",
    "\n",
    "if cuda.is_available():\n",
    "    cuda.empty_cache()\n",
    "    model.cuda()\n",
    "    criterion.cuda()  "
   ]
  },
  {
   "cell_type": "code",
   "execution_count": 17,
   "id": "hundred-immune",
   "metadata": {
    "execution": {
     "iopub.execute_input": "2021-06-03T07:34:51.905742Z",
     "iopub.status.busy": "2021-06-03T07:34:51.905742Z",
     "iopub.status.idle": "2021-06-03T07:34:51.929496Z",
     "shell.execute_reply": "2021-06-03T07:34:51.929496Z",
     "shell.execute_reply.started": "2021-06-03T07:34:51.905742Z"
    },
    "tags": []
   },
   "outputs": [],
   "source": [
    "# define the optimizer and dataloader, sampler\n",
    "\n",
    "optimizer = Adam(model.parameters(), lr=lr, weight_decay=1e-5)\n",
    "sampler = BernoulliNegativeSampler(kg_train)\n",
    "tr_dl = DataLoader(kg_train, batch_size = b_size, use_cuda='all')\n",
    "val_dl = DataLoader(kg_valid, batch_size = b_size, use_cuda = 'all')"
   ]
  },
  {
   "cell_type": "code",
   "execution_count": 18,
   "id": "dutch-merchant",
   "metadata": {
    "execution": {
     "iopub.execute_input": "2021-06-03T08:12:23.292149Z",
     "iopub.status.busy": "2021-06-03T08:12:23.292149Z",
     "iopub.status.idle": "2021-06-03T08:12:25.760898Z",
     "shell.execute_reply": "2021-06-03T08:12:25.760898Z",
     "shell.execute_reply.started": "2021-06-03T08:12:23.292149Z"
    },
    "tags": []
   },
   "outputs": [
    {
     "data": {
      "application/vnd.jupyter.widget-view+json": {
       "model_id": "e762f799b08245519e4662cf4c37df4c",
       "version_major": 2,
       "version_minor": 0
      },
      "text/plain": [
       "  0%|          | 0/100 [00:00<?, ?epoch/s]"
      ]
     },
     "metadata": {},
     "output_type": "display_data"
    },
    {
     "name": "stdout",
     "output_type": "stream",
     "text": [
      "Epoch 1 | mean loss: 242.79393, valid loss: 176.97351\n",
      "Epoch 51 | mean loss: 180.95449, valid loss: 137.00548\n"
     ]
    }
   ],
   "source": [
    "# training\n",
    "\n",
    "n_epochs = 100\n",
    "best_val_loss = 1e+10\n",
    "iterator = tqdm(range(n_epochs), unit='epoch')\n",
    "for epoch in iterator:\n",
    "    \n",
    "    tr_loss = 0\n",
    "    model.train()\n",
    "    \n",
    "    for step, batch in enumerate(tr_dl):\n",
    "        h, t, r = batch[0], batch[1], batch[2]\n",
    "        n_h, n_t = sampler.corrupt_batch(h, t, r) # negative head, negative tail\n",
    "        \n",
    "        optimizer.zero_grad()\n",
    "        \n",
    "        pos, neg = model(h, t, n_h, n_t, r)\n",
    "        loss = criterion(pos, neg)\n",
    "        loss.backward()\n",
    "        optimizer.step()\n",
    "        \n",
    "        tr_loss += loss.item()\n",
    "    tr_loss /= (step+1)\n",
    "    \n",
    "    if model.training:\n",
    "        model.eval()\n",
    "    val_loss = 0\n",
    "    # for step, batch in tqdm(enumerate(val_dl), desc='steps', total=len(val_dl)):\n",
    "    for step, batch in enumerate(val_dl):\n",
    "        h, t, r = batch[0], batch[1], batch[2]\n",
    "        n_h, n_t = sampler.corrupt_batch(h, t, r)\n",
    "        with torch.no_grad():\n",
    "            pos, neg = model(h, t, n_h, n_t, r)\n",
    "            loss = criterion(pos, neg)\n",
    "            val_loss += loss.item()\n",
    "    val_loss /= (step+1)\n",
    "    # iterator.set_description('Epoch {} | mean loss: {:.5f}, valid loss: {:.5f}'.format(epoch+1, tr_loss, val_loss))\n",
    "    if epoch % 50 == 0:\n",
    "        tqdm.write('Epoch {} | mean loss: {:.5f}, valid loss: {:.5f}'.format(epoch+1, tr_loss, val_loss))\n",
    "    model.normalize_parameters()\n",
    "    \n",
    "    is_best = val_loss < best_val_loss\n",
    "#     if is_best:\n",
    "#         state = {'epoch': epoch, \n",
    "#                  'state_dict': model.state_dict(), \n",
    "#                  'optimizer': optimizer.state_dict()}\n",
    "#         torch.save(state, '../experiment/wiki_country/best_transe.tar')\n",
    "#         best_val_loss = val_loss"
   ]
  },
  {
   "cell_type": "code",
   "execution_count": 19,
   "id": "awful-musical",
   "metadata": {},
   "outputs": [],
   "source": [
    "from torchkge.evaluation import LinkPredictionEvaluator"
   ]
  },
  {
   "cell_type": "code",
   "execution_count": 20,
   "id": "collectible-bacon",
   "metadata": {},
   "outputs": [],
   "source": [
    "evaluator = LinkPredictionEvaluator(model, kg_test)"
   ]
  },
  {
   "cell_type": "code",
   "execution_count": 21,
   "id": "static-arbitration",
   "metadata": {},
   "outputs": [
    {
     "data": {
      "application/vnd.jupyter.widget-view+json": {
       "model_id": "d7845cfc340148f08200c2c7841352db",
       "version_major": 2,
       "version_minor": 0
      },
      "text/plain": [
       "Link prediction evaluation:   0%|          | 0/34 [00:00<?, ?batch/s]"
      ]
     },
     "metadata": {},
     "output_type": "display_data"
    }
   ],
   "source": [
    "result = evaluator.evaluate(b_size=32)"
   ]
  },
  {
   "cell_type": "code",
   "execution_count": 22,
   "id": "chemical-notification",
   "metadata": {},
   "outputs": [
    {
     "name": "stdout",
     "output_type": "stream",
     "text": [
      "Hit@10 : 0.1099 \t\t Filt. Hit@10 : 0.1988\n",
      "Mean Rank : 2467 \t Filt. Mean Rank : 2446\n",
      "MRR : 0.0724 \t\t Filt. MRR : 0.1006\n"
     ]
    }
   ],
   "source": [
    "evaluator.print_results()"
   ]
  },
  {
   "cell_type": "code",
   "execution_count": 23,
   "id": "distributed-welding",
   "metadata": {},
   "outputs": [
    {
     "data": {
      "text/plain": [
       "{'Normal': {'Hit@10': 0.1099, 'Mean Rank': 2467, 'MRR': 0.0724},\n",
       " 'Filtered': {'Hit@10': 0.1988, 'Mean Rank': 2446, 'MRR': 0.1006}}"
      ]
     },
     "execution_count": 23,
     "metadata": {},
     "output_type": "execute_result"
    }
   ],
   "source": [
    "result"
   ]
  },
  {
   "cell_type": "code",
   "execution_count": 24,
   "id": "aerial-heading",
   "metadata": {},
   "outputs": [],
   "source": [
    "from torchkge.evaluation import TripletClassificationEvaluator"
   ]
  },
  {
   "cell_type": "code",
   "execution_count": 27,
   "id": "subtle-estonia",
   "metadata": {},
   "outputs": [],
   "source": [
    "tc_evaluator = TripletClassificationEvaluator(model, kg_valid, kg_test)"
   ]
  },
  {
   "cell_type": "code",
   "execution_count": 28,
   "id": "simplified-vienna",
   "metadata": {},
   "outputs": [],
   "source": [
    "tc_evaluator.evaluate(b_size = 128)"
   ]
  },
  {
   "cell_type": "code",
   "execution_count": 29,
   "id": "antique-twist",
   "metadata": {},
   "outputs": [
    {
     "data": {
      "text/plain": [
       "0.5283985102420856"
      ]
     },
     "execution_count": 29,
     "metadata": {},
     "output_type": "execute_result"
    }
   ],
   "source": [
    "tc_evaluator.accuracy(b_size=128)"
   ]
  },
  {
   "cell_type": "code",
   "execution_count": null,
   "id": "vanilla-score",
   "metadata": {},
   "outputs": [],
   "source": []
  }
 ],
 "metadata": {
  "kernelspec": {
   "display_name": "Python 3",
   "language": "python",
   "name": "python3"
  },
  "language_info": {
   "codemirror_mode": {
    "name": "ipython",
    "version": 3
   },
   "file_extension": ".py",
   "mimetype": "text/x-python",
   "name": "python",
   "nbconvert_exporter": "python",
   "pygments_lexer": "ipython3",
   "version": "3.8.8"
  },
  "toc": {
   "base_numbering": 1,
   "nav_menu": {},
   "number_sections": false,
   "sideBar": true,
   "skip_h1_title": false,
   "title_cell": "Table of Contents",
   "title_sidebar": "Contents",
   "toc_cell": false,
   "toc_position": {
    "height": "calc(100% - 180px)",
    "left": "10px",
    "top": "150px",
    "width": "255.865px"
   },
   "toc_section_display": true,
   "toc_window_display": true
  }
 },
 "nbformat": 4,
 "nbformat_minor": 5
}
