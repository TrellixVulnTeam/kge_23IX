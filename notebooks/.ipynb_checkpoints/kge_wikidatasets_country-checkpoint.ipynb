{
 "cells": [
  {
   "cell_type": "code",
   "execution_count": 1,
   "id": "transparent-demand",
   "metadata": {
    "scrolled": true,
    "tags": []
   },
   "outputs": [],
   "source": [
    "import sys\n",
    "sys.path.insert(0,'..')\n",
    "from torchkge.utils.datasets import load_wikidatasets\n",
    "\n",
    "kg_train, kg_valid, kg_test = load_wikidatasets(which='countries', limit_= 0, data_home='../data')"
   ]
  },
  {
   "cell_type": "code",
   "execution_count": 3,
   "id": "sacred-annual",
   "metadata": {
    "tags": []
   },
   "outputs": [
    {
     "name": "stdout",
     "output_type": "stream",
     "text": [
      "# of entities : 28777\n",
      "# of relations: 166\n"
     ]
    }
   ],
   "source": [
    "print(f'# of entities : {kg_train.n_ent}')\n",
    "print(f'# of relations: {kg_train.n_rel}')"
   ]
  },
  {
   "cell_type": "code",
   "execution_count": 4,
   "id": "0498cc1a-64c7-466c-9256-278338499a6f",
   "metadata": {},
   "outputs": [
    {
     "name": "stdout",
     "output_type": "stream",
     "text": [
      "# of triplets in triple : 9207\n",
      "# of triplets in valid  : 1078\n",
      "# of triplets in test   : 1076\n"
     ]
    }
   ],
   "source": [
    "print(f'# of triplets in train : {kg_train.n_facts}')\n",
    "print(f'# of triplets in valid : {kg_valid.n_facts}')\n",
    "print(f'# of triplets in test  : {kg_test.n_facts}')"
   ]
  },
  {
   "cell_type": "code",
   "execution_count": 3,
   "id": "spoken-three",
   "metadata": {
    "tags": []
   },
   "outputs": [
    {
     "data": {
      "text/plain": [
       "[('Belgium', 0),\n",
       " ('Portugal', 1),\n",
       " (\"People's Republic of China\", 2),\n",
       " ('Brazil', 3),\n",
       " ('Germany', 4)]"
      ]
     },
     "execution_count": 3,
     "metadata": {},
     "output_type": "execute_result"
    }
   ],
   "source": [
    "list(kg.ent2ix.items())[:5]"
   ]
  },
  {
   "cell_type": "code",
   "execution_count": 4,
   "id": "talented-vitamin",
   "metadata": {
    "tags": []
   },
   "outputs": [
    {
     "data": {
      "text/plain": [
       "[(0, 'Belgium'),\n",
       " (1, 'Portugal'),\n",
       " (2, \"People's Republic of China\"),\n",
       " (3, 'Brazil'),\n",
       " (4, 'Germany')]"
      ]
     },
     "execution_count": 4,
     "metadata": {},
     "output_type": "execute_result"
    }
   ],
   "source": [
    "list(kg.ix2ent.items())[:5]"
   ]
  },
  {
   "cell_type": "code",
   "execution_count": 5,
   "id": "recreational-memphis",
   "metadata": {
    "tags": []
   },
   "outputs": [
    {
     "data": {
      "text/plain": [
       "[('participant of', 0),\n",
       " (\"topic's main Wikimedia portal\", 1),\n",
       " ('motto', 2),\n",
       " ('Wikimedia outline', 3),\n",
       " ('currency', 4)]"
      ]
     },
     "execution_count": 5,
     "metadata": {},
     "output_type": "execute_result"
    }
   ],
   "source": [
    "list(kg.rel2ix.items())[:5]"
   ]
  },
  {
   "cell_type": "code",
   "execution_count": 6,
   "id": "freelance-activity",
   "metadata": {
    "tags": []
   },
   "outputs": [
    {
     "data": {
      "text/plain": [
       "[(0, 'participant of'),\n",
       " (1, \"topic's main Wikimedia portal\"),\n",
       " (2, 'motto'),\n",
       " (3, 'Wikimedia outline'),\n",
       " (4, 'currency')]"
      ]
     },
     "execution_count": 6,
     "metadata": {},
     "output_type": "execute_result"
    }
   ],
   "source": [
    "list(kg.ix2rel.items())[:5]"
   ]
  },
  {
   "cell_type": "code",
   "execution_count": 7,
   "id": "three-nickname",
   "metadata": {
    "tags": []
   },
   "outputs": [
    {
     "data": {
      "text/plain": [
       "[(tensor(0), tensor(11), tensor(0)),\n",
       " (tensor(0), tensor(16), tensor(3047)),\n",
       " (tensor(0), tensor(16), tensor(424)),\n",
       " (tensor(0), tensor(16), tensor(4)),\n",
       " (tensor(0), tensor(16), tensor(1379))]"
      ]
     },
     "execution_count": 7,
     "metadata": {},
     "output_type": "execute_result"
    }
   ],
   "source": [
    "list(zip(kg.head_idx, kg.relations, kg.tail_idx))[:5]"
   ]
  },
  {
   "cell_type": "code",
   "execution_count": 8,
   "id": "awful-bidder",
   "metadata": {
    "tags": []
   },
   "outputs": [
    {
     "name": "stdout",
     "output_type": "stream",
     "text": [
      "Israel -> diplomatic relation -> United Arab Emirates\n",
      "Armenia -> diplomatic relation -> Syria\n",
      "Israel -> diplomatic relation -> Mexico\n",
      "Taiwan -> diplomatic relation -> Australia\n",
      "Northern Song Dynasty -> part of -> Song dynasty\n",
      "Guyana -> diplomatic relation -> Barbados\n",
      "Equatorial Guinea -> diplomatic relation -> Brazil\n",
      "Bolivia -> diplomatic relation -> Peru\n",
      "Haiti -> diplomatic relation -> Chile\n",
      "Iraq -> diplomatic relation -> Denmark\n",
      "Sierra Leone -> diplomatic relation -> Liberia\n",
      "Taiwan -> diplomatic relation -> Venezuela\n",
      "Kingdom of France (1791-1792) -> follows -> Kingdom of France\n",
      "Italy -> diplomatic relation -> Kosovo\n",
      "Romania -> diplomatic relation -> Russia\n",
      "Ukraine -> shares border with -> Czechoslovakia\n",
      "Bishopric of Verdun -> country -> Holy Roman Empire\n",
      "Portugal -> diplomatic relation -> Bangladesh\n",
      "Ethiopia -> diplomatic relation -> Hungary\n",
      "Serbia -> shares border with -> Kosovo\n"
     ]
    }
   ],
   "source": [
    "from random import randint\n",
    "test_size = 20\n",
    "\n",
    "for _ in range(test_size):\n",
    "    i = randint(0, kg.n_facts)\n",
    "    print(kg.ix2ent[kg.head_idx[i].item()], '->', kg.ix2rel[kg.relations[i].item()], '->', kg.ix2ent[kg.tail_idx[i].item()])"
   ]
  },
  {
   "cell_type": "code",
   "execution_count": 9,
   "id": "everyday-quick",
   "metadata": {
    "tags": []
   },
   "outputs": [],
   "source": [
    "kg_train, kg_valid, kg_test = kg.split_kg(share=0.8, validation=True)"
   ]
  },
  {
   "cell_type": "code",
   "execution_count": 13,
   "id": "a22478c6-adb3-4476-9c54-0af4db315b74",
   "metadata": {},
   "outputs": [],
   "source": [
    "from os.path import exists\n",
    "import pickle\n",
    "\n",
    "if not exists('../data/WikiDataSets/countries/WikiData_train.pkl'):\n",
    "    with open('../data/WikiDataSets/countries/WikiData_train.pkl', mode='wb') as io:\n",
    "        pickle.dump(kg_train, io)"
   ]
  },
  {
   "cell_type": "code",
   "execution_count": 10,
   "id": "divine-voltage",
   "metadata": {
    "execution": {
     "iopub.execute_input": "2021-06-03T07:27:10.686001Z",
     "iopub.status.busy": "2021-06-03T07:27:10.686001Z",
     "iopub.status.idle": "2021-06-03T07:27:10.702334Z",
     "shell.execute_reply": "2021-06-03T07:27:10.701333Z",
     "shell.execute_reply.started": "2021-06-03T07:27:10.686001Z"
    },
    "tags": []
   },
   "outputs": [],
   "source": [
    "import torch\n",
    "from torch import cuda\n",
    "from torch.optim import Adam\n",
    "from tqdm.autonotebook import tqdm\n",
    "\n",
    "from torchkge.models import TransEModel, DistMultModel\n",
    "from torchkge.sampling import BernoulliNegativeSampler\n",
    "from torchkge.utils import MarginLoss, DataLoader"
   ]
  },
  {
   "cell_type": "code",
   "execution_count": 11,
   "id": "shared-conspiracy",
   "metadata": {
    "execution": {
     "iopub.execute_input": "2021-06-03T07:23:37.494952Z",
     "iopub.status.busy": "2021-06-03T07:23:37.494952Z",
     "iopub.status.idle": "2021-06-03T07:23:37.511952Z",
     "shell.execute_reply": "2021-06-03T07:23:37.511952Z",
     "shell.execute_reply.started": "2021-06-03T07:23:37.494952Z"
    },
    "tags": []
   },
   "outputs": [
    {
     "name": "stdout",
     "output_type": "stream",
     "text": [
      "# of triples in train: 9207\n",
      "# of triples in valid: 1074\n",
      "# of triples in test : 1080\n"
     ]
    }
   ],
   "source": [
    "print(f'# of triples in train: {kg_train.n_facts}')\n",
    "print(f'# of triples in valid: {kg_valid.n_facts}')\n",
    "print(f'# of triples in test : {kg_test.n_facts}')"
   ]
  },
  {
   "cell_type": "code",
   "execution_count": 12,
   "id": "further-lottery",
   "metadata": {
    "execution": {
     "iopub.execute_input": "2021-06-03T07:23:38.704389Z",
     "iopub.status.busy": "2021-06-03T07:23:38.704389Z",
     "iopub.status.idle": "2021-06-03T07:23:38.715392Z",
     "shell.execute_reply": "2021-06-03T07:23:38.715392Z",
     "shell.execute_reply.started": "2021-06-03T07:23:38.704389Z"
    },
    "tags": []
   },
   "outputs": [],
   "source": [
    "# training config\n",
    "\n",
    "ent_emb_dim = 50\n",
    "lr = 0.0004\n",
    "b_size = 500\n",
    "margin = 0.5\n",
    "summary_step = 200"
   ]
  },
  {
   "cell_type": "code",
   "execution_count": 13,
   "id": "spanish-operator",
   "metadata": {
    "execution": {
     "iopub.execute_input": "2021-06-03T07:25:21.112446Z",
     "iopub.status.busy": "2021-06-03T07:25:21.111446Z",
     "iopub.status.idle": "2021-06-03T07:25:21.132432Z",
     "shell.execute_reply": "2021-06-03T07:25:21.132432Z",
     "shell.execute_reply.started": "2021-06-03T07:25:21.112446Z"
    }
   },
   "outputs": [],
   "source": [
    "# define the model and criterion\n",
    "\n",
    "# model = TransEModel(ent_emb_dim, kg_train.n_ent, kg_train.n_rel, dissimilarity_type='L2')\n",
    "model = DistMultModel(ent_emb_dim, kg_train.n_ent, kg_train.n_rel)\n",
    "criterion = MarginLoss(margin)"
   ]
  },
  {
   "cell_type": "code",
   "execution_count": 14,
   "id": "fatal-lawrence",
   "metadata": {
    "execution": {
     "iopub.execute_input": "2021-06-03T07:29:52.491461Z",
     "iopub.status.busy": "2021-06-03T07:29:52.491461Z",
     "iopub.status.idle": "2021-06-03T07:29:52.503461Z",
     "shell.execute_reply": "2021-06-03T07:29:52.503461Z",
     "shell.execute_reply.started": "2021-06-03T07:29:52.491461Z"
    },
    "tags": []
   },
   "outputs": [],
   "source": [
    "# use cuda if it is available\n",
    "\n",
    "if cuda.is_available():\n",
    "    cuda.empty_cache()\n",
    "    model.cuda()\n",
    "    criterion.cuda()  "
   ]
  },
  {
   "cell_type": "code",
   "execution_count": 15,
   "id": "hundred-immune",
   "metadata": {
    "execution": {
     "iopub.execute_input": "2021-06-03T07:34:51.905742Z",
     "iopub.status.busy": "2021-06-03T07:34:51.905742Z",
     "iopub.status.idle": "2021-06-03T07:34:51.929496Z",
     "shell.execute_reply": "2021-06-03T07:34:51.929496Z",
     "shell.execute_reply.started": "2021-06-03T07:34:51.905742Z"
    },
    "tags": []
   },
   "outputs": [],
   "source": [
    "# define the optimizer and dataloader, sampler\n",
    "\n",
    "optimizer = Adam(model.parameters(), lr=lr, weight_decay=1e-5)\n",
    "sampler = BernoulliNegativeSampler(kg_train)\n",
    "tr_dl = DataLoader(kg_train, batch_size = b_size, use_cuda='all')\n",
    "val_dl = DataLoader(kg_valid, batch_size = b_size, use_cuda = 'all')"
   ]
  },
  {
   "cell_type": "code",
   "execution_count": 16,
   "id": "dutch-merchant",
   "metadata": {
    "execution": {
     "iopub.execute_input": "2021-06-03T08:12:23.292149Z",
     "iopub.status.busy": "2021-06-03T08:12:23.292149Z",
     "iopub.status.idle": "2021-06-03T08:12:25.760898Z",
     "shell.execute_reply": "2021-06-03T08:12:25.760898Z",
     "shell.execute_reply.started": "2021-06-03T08:12:23.292149Z"
    },
    "tags": []
   },
   "outputs": [
    {
     "data": {
      "application/vnd.jupyter.widget-view+json": {
       "model_id": "e540c322fc944c5494ab7fec4d331c1c",
       "version_major": 2,
       "version_minor": 0
      },
      "text/plain": [
       "  0%|          | 0/2000 [00:00<?, ?epoch/s]"
      ]
     },
     "metadata": {},
     "output_type": "display_data"
    },
    {
     "name": "stdout",
     "output_type": "stream",
     "text": [
      "Epoch 1 | mean loss: 242.02944, valid loss: 178.71754\n",
      "Epoch 51 | mean loss: 89.85932, valid loss: 73.36523\n",
      "Epoch 101 | mean loss: 22.11345, valid loss: 33.34391\n",
      "Epoch 151 | mean loss: 8.63050, valid loss: 22.15195\n",
      "Epoch 201 | mean loss: 4.05967, valid loss: 18.34913\n",
      "Epoch 251 | mean loss: 3.05279, valid loss: 15.67769\n",
      "Epoch 301 | mean loss: 2.23112, valid loss: 12.65838\n",
      "Epoch 351 | mean loss: 1.55090, valid loss: 13.33125\n",
      "Epoch 401 | mean loss: 1.64024, valid loss: 11.20280\n",
      "Epoch 451 | mean loss: 1.19760, valid loss: 12.98193\n",
      "Epoch 501 | mean loss: 1.10246, valid loss: 12.46544\n",
      "Epoch 551 | mean loss: 0.95250, valid loss: 10.99642\n",
      "Epoch 601 | mean loss: 0.97751, valid loss: 10.96828\n",
      "Epoch 651 | mean loss: 0.93941, valid loss: 11.31976\n",
      "Epoch 701 | mean loss: 0.88975, valid loss: 10.87393\n",
      "Epoch 751 | mean loss: 0.66451, valid loss: 10.40798\n",
      "Epoch 801 | mean loss: 0.66126, valid loss: 9.88012\n",
      "Epoch 851 | mean loss: 0.89190, valid loss: 10.26491\n",
      "Epoch 901 | mean loss: 0.72292, valid loss: 10.54644\n",
      "Epoch 951 | mean loss: 0.67367, valid loss: 9.37462\n",
      "Epoch 1001 | mean loss: 0.82673, valid loss: 10.61183\n",
      "Epoch 1051 | mean loss: 0.65470, valid loss: 9.86752\n",
      "Epoch 1101 | mean loss: 0.69364, valid loss: 10.89341\n",
      "Epoch 1151 | mean loss: 0.83651, valid loss: 12.09958\n",
      "Epoch 1201 | mean loss: 0.53524, valid loss: 10.54829\n",
      "Epoch 1251 | mean loss: 0.92690, valid loss: 10.80825\n",
      "Epoch 1301 | mean loss: 0.62019, valid loss: 9.32969\n",
      "Epoch 1351 | mean loss: 0.62262, valid loss: 11.01769\n",
      "Epoch 1401 | mean loss: 0.65692, valid loss: 8.52778\n",
      "Epoch 1451 | mean loss: 0.69924, valid loss: 9.52082\n",
      "Epoch 1501 | mean loss: 0.51237, valid loss: 9.08681\n",
      "Epoch 1551 | mean loss: 0.71819, valid loss: 10.22574\n",
      "Epoch 1601 | mean loss: 0.66918, valid loss: 9.43822\n",
      "Epoch 1651 | mean loss: 0.66296, valid loss: 8.49873\n",
      "Epoch 1701 | mean loss: 0.69663, valid loss: 8.31698\n",
      "Epoch 1751 | mean loss: 0.48657, valid loss: 8.62704\n",
      "Epoch 1801 | mean loss: 0.58284, valid loss: 10.01116\n",
      "Epoch 1851 | mean loss: 0.70088, valid loss: 8.11819\n",
      "Epoch 1901 | mean loss: 0.40068, valid loss: 8.43359\n",
      "Epoch 1951 | mean loss: 0.26711, valid loss: 9.46148\n"
     ]
    }
   ],
   "source": [
    "# training\n",
    "\n",
    "n_epochs = 2000\n",
    "best_val_loss = 1e+10\n",
    "iterator = tqdm(range(n_epochs), unit='epoch')\n",
    "for epoch in iterator:\n",
    "    \n",
    "    tr_loss = 0\n",
    "    model.train()\n",
    "    \n",
    "    for step, batch in enumerate(tr_dl):\n",
    "        h, t, r = batch[0], batch[1], batch[2]\n",
    "        n_h, n_t = sampler.corrupt_batch(h, t, r) # negative head, negative tail\n",
    "        \n",
    "        optimizer.zero_grad()\n",
    "        \n",
    "        pos, neg = model(h, t, n_h, n_t, r)\n",
    "        loss = criterion(pos, neg)\n",
    "        loss.backward()\n",
    "        optimizer.step()\n",
    "        \n",
    "        tr_loss += loss.item()\n",
    "    tr_loss /= (step+1)\n",
    "    \n",
    "    if model.training:\n",
    "        model.eval()\n",
    "    val_loss = 0\n",
    "    # for step, batch in tqdm(enumerate(val_dl), desc='steps', total=len(val_dl)):\n",
    "    for step, batch in enumerate(val_dl):\n",
    "        h, t, r = batch[0], batch[1], batch[2]\n",
    "        n_h, n_t = sampler.corrupt_batch(h, t, r)\n",
    "        with torch.no_grad():\n",
    "            pos, neg = model(h, t, n_h, n_t, r)\n",
    "            loss = criterion(pos, neg)\n",
    "            val_loss += loss.item()\n",
    "    val_loss /= (step+1)\n",
    "    # iterator.set_description('Epoch {} | mean loss: {:.5f}, valid loss: {:.5f}'.format(epoch+1, tr_loss, val_loss))\n",
    "    if epoch % 50 == 0:\n",
    "        tqdm.write('Epoch {} | mean loss: {:.5f}, valid loss: {:.5f}'.format(epoch+1, tr_loss, val_loss))\n",
    "    model.normalize_parameters()\n",
    "    \n",
    "    is_best = val_loss < best_val_loss\n",
    "    if is_best:\n",
    "        state = {'epoch': epoch, \n",
    "                 'state_dict': model.state_dict(), \n",
    "                 'optimizer': optimizer.state_dict()}\n",
    "        torch.save(state, '../experiment/wiki_country/best_transe.tar')\n",
    "        best_val_loss = val_loss"
   ]
  },
  {
   "cell_type": "code",
   "execution_count": null,
   "id": "exotic-handle",
   "metadata": {},
   "outputs": [],
   "source": []
  }
 ],
 "metadata": {
  "kernelspec": {
   "display_name": "Python 3",
   "language": "python",
   "name": "python3"
  },
  "language_info": {
   "codemirror_mode": {
    "name": "ipython",
    "version": 3
   },
   "file_extension": ".py",
   "mimetype": "text/x-python",
   "name": "python",
   "nbconvert_exporter": "python",
   "pygments_lexer": "ipython3",
   "version": "3.8.8"
  },
  "toc": {
   "base_numbering": 1,
   "nav_menu": {},
   "number_sections": false,
   "sideBar": true,
   "skip_h1_title": false,
   "title_cell": "Table of Contents",
   "title_sidebar": "Contents",
   "toc_cell": false,
   "toc_position": {
    "height": "calc(100% - 180px)",
    "left": "10px",
    "top": "150px",
    "width": "255.865px"
   },
   "toc_section_display": true,
   "toc_window_display": true
  }
 },
 "nbformat": 4,
 "nbformat_minor": 5
}
